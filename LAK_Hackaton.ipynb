{
 "cells": [
  {
   "cell_type": "code",
   "execution_count": 1,
   "metadata": {},
   "outputs": [],
   "source": [
    "import pandas as pd\n",
    "from datetime import datetime\n",
    "from datetime import timedelta\n",
    "import numpy as np\n",
    "from scipy.stats.stats import pearsonr\n",
    "import matplotlib.pyplot as plt\n",
    "import json\n",
    "from sklearn import preprocessing"
   ]
  },
  {
   "cell_type": "code",
   "execution_count": 2,
   "metadata": {},
   "outputs": [],
   "source": [
    "playtest5_data = pd.read_csv(\"2018-11-14_Playtest/anonymized_playtest5_data.csv\", sep=\";\")\n",
    "playtest6_data = pd.read_csv(\"2019-01-07_Playtest/anonymized_playtest6_data.csv\", sep=\";\")\n",
    "playtest7_data = pd.read_csv(\"2019-01-31_Playtest/anonymized_playtest7_data.csv\", sep=\";\")"
   ]
  },
  {
   "cell_type": "code",
   "execution_count": 4,
   "metadata": {},
   "outputs": [],
   "source": [
    "playtest5_data['time'] = pd.to_datetime(playtest5_data['time'])\n",
    "playtest6_data['time'] = pd.to_datetime(playtest6_data['time'])\n",
    "playtest7_data['time'] = pd.to_datetime(playtest7_data['time'])"
   ]
  },
  {
   "cell_type": "code",
   "execution_count": 5,
   "metadata": {},
   "outputs": [],
   "source": [
    "playtest5_data = playtest5_data.sort_values('time')\n",
    "playtest6_data = playtest6_data.sort_values('time')\n",
    "playtest7_data = playtest7_data.sort_values('time')"
   ]
  },
  {
   "cell_type": "code",
   "execution_count": 6,
   "metadata": {},
   "outputs": [],
   "source": [
    "all_playtest_data = pd.concat([playtest5_data, playtest6_data, playtest7_data])"
   ]
  },
  {
   "cell_type": "code",
   "execution_count": 7,
   "metadata": {},
   "outputs": [],
   "source": [
    "all_playtest_data = all_playtest_data.sort_values('time')"
   ]
  },
  {
   "cell_type": "code",
   "execution_count": 8,
   "metadata": {},
   "outputs": [],
   "source": [
    "data_by_user = all_playtest_data.groupby('session_id').agg({'id':'count',\n",
    "                                             'type':'nunique'}).reset_index().rename(columns={'id':'n_events',\n",
    "                                                                                              'type':'n_different_events'})"
   ]
  },
  {
   "cell_type": "code",
   "execution_count": 9,
   "metadata": {},
   "outputs": [],
   "source": [
    "data_by_user['active_time'] = np.nan\n",
    "data_by_user['avg_dt'] = np.nan\n",
    "data_by_user['std_dt'] = np.nan"
   ]
  },
  {
   "cell_type": "code",
   "execution_count": 10,
   "metadata": {},
   "outputs": [],
   "source": [
    "data_by_user.index = data_by_user['session_id'].values"
   ]
  },
  {
   "cell_type": "code",
   "execution_count": 11,
   "metadata": {},
   "outputs": [],
   "source": [
    "for user in data_by_user['session_id'].unique():\n",
    "    user_events = all_playtest_data[all_playtest_data['session_id'] == user]\n",
    "   \n",
    "    # Computing active time\n",
    "    previousEvent = None\n",
    "    theresHoldActivity = 15 # np.percentile(allDifferences, 98) is 10 seconds\n",
    "    activeTime = []\n",
    "    \n",
    "    for enum, event in user_events.iterrows():\n",
    "        \n",
    "        # If it is the first event\n",
    "        if(previousEvent is None):\n",
    "            previousEvent = event\n",
    "            continue\n",
    "        \n",
    "        delta_seconds = (event['time'] - previousEvent['time']).total_seconds()\n",
    "        if(~(delta_seconds > theresHoldActivity)):\n",
    "            activeTime.append(delta_seconds)\n",
    "        \n",
    "        previousEvent = event\n",
    "        \n",
    "    data_by_user.at[user, 'active_time'] = round(np.sum(activeTime)/60,2)\n",
    "    data_by_user.at[user, 'avg_dt'] = round(np.mean(activeTime)/60,2)\n",
    "    data_by_user.at[user, 'std_dt'] = round(np.std(activeTime)/60,2)"
   ]
  }
 ],
 "metadata": {
  "kernelspec": {
   "display_name": "Python 3",
   "language": "python",
   "name": "python3"
  },
  "language_info": {
   "codemirror_mode": {
    "name": "ipython",
    "version": 3
   },
   "file_extension": ".py",
   "mimetype": "text/x-python",
   "name": "python",
   "nbconvert_exporter": "python",
   "pygments_lexer": "ipython3",
   "version": "3.6.5"
  }
 },
 "nbformat": 4,
 "nbformat_minor": 2
}
