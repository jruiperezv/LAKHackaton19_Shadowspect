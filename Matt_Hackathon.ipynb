{
 "cells": [
  {
   "cell_type": "code",
   "execution_count": 1,
   "metadata": {},
   "outputs": [],
   "source": [
    "import pandas as pd\n",
    "from datetime import datetime\n",
    "from datetime import timedelta\n",
    "import numpy as np\n",
    "from scipy.stats.stats import pearsonr\n",
    "import matplotlib.pyplot as plt\n",
    "import json, os, collections, ast"
   ]
  },
  {
   "cell_type": "code",
   "execution_count": 2,
   "metadata": {},
   "outputs": [],
   "source": [
    "playtest_files = [\"2018-11-14_Playtest/anonymized_playtest5_data.csv\", \"2019-01-07_Playtest/anonymized_playtest6_data.csv\", \"2019-01-31_Playtest/anonymized_playtest7_data.csv\"]\n",
    "\n",
    "playtests = []\n",
    "\n",
    "for playtest in playtest_files:\n",
    "    playtests.append(pd.read_csv(playtest, sep=\";\", index_col=0))\n",
    "    \n",
    "# Set the playtest index we want to focus on\n",
    "playtest = 1\n"
   ]
  },
  {
   "cell_type": "code",
   "execution_count": 3,
   "metadata": {},
   "outputs": [],
   "source": [
    "def get_shapes(puzzle):\n",
    "    shapes = []\n",
    "    if puzzle is None:\n",
    "        return shapes\n",
    "    for shape_data in puzzle.get(\"shapeData\"):\n",
    "        shapes.append(shape_data.get('shapeType'))\n",
    "    return shapes    "
   ]
  },
  {
   "cell_type": "code",
   "execution_count": 4,
   "metadata": {},
   "outputs": [],
   "source": [
    "puzzles = collections.OrderedDict()\n",
    "\n",
    "with open(f\"{os.path.dirname(playtest_files[playtest])}/StreamingAssets/config.json\") as f:\n",
    "    asset_config = json.load(f)\n",
    "\n",
    "for puzzle_sets in asset_config.get(\"puzzleSets\"):\n",
    "    for puzzle_file in puzzle_sets.get(\"puzzles\"):\n",
    "        with open(f\"{os.path.dirname(playtest_files[playtest])}/StreamingAssets/{puzzle_file}.json\") as f:\n",
    "            puzzle_details = json.load(f)\n",
    "            puzzles[puzzle_details.get(\"puzzleName\")] = puzzle_details"
   ]
  },
  {
   "cell_type": "code",
   "execution_count": 5,
   "metadata": {},
   "outputs": [],
   "source": [
    "pd.set_option('display.max_columns', None)\n",
    "pd.set_option('display.max_colwidth', -1)\n",
    "#all_playtest_data = pd.concat([playtest5_data, playtest6_data, playtest7_data])\n",
    "all_playtest_data = pd.concat([playtests[playtest]])\n",
    "\n",
    "#all_playtest_data = all_playtest_data.join(all_playtest_data['data'].map(json.loads).apply(pd.Series).add_prefix('data.')).drop([\"data\"], axis=1)\n",
    "all_playtest_data = all_playtest_data.join(all_playtest_data['data'].map(json.loads).apply(pd.Series)).drop([\"data\"], axis=1)"
   ]
  },
  {
   "cell_type": "code",
   "execution_count": 6,
   "metadata": {},
   "outputs": [],
   "source": [
    "# puzzleDict[user~puzzle_id] = {}\n",
    "puzzleDict = {}\n",
    "frames = []\n",
    "\n",
    "# For each session\n",
    "for user in all_playtest_data['session_id'].unique():\n",
    "    # Get the sessions\n",
    "    user_events = all_playtest_data[all_playtest_data['session_id'] == user]\n",
    "    activePuzzle = None\n",
    "    for enum, event in user_events.iterrows():\n",
    "        #print(('{} - {}').format(event['time'], event['type']))\n",
    "        # Keep track of all frames we've looked at\n",
    "        if(event['type'] == 'ws-start_level'):\n",
    "            activePuzzle = event['task_id']\n",
    "            frames.clear()\n",
    "\n",
    "            \n",
    "        # If they are not playing a puzzle we do not do anything and continue\n",
    "        if(activePuzzle is None):\n",
    "            continue\n",
    "\n",
    "    # Analyze when puzzle is finished or user left\n",
    "        # Measure time, attempts, completion and actions\n",
    "        if(event['type'] in ['ws-exit_to_menu', 'ws-disconnect']):\n",
    "            # This was incomplete so don't reset the active puzzle\n",
    "            activePuzzle = None\n",
    "            frames.clear()\n",
    "\n",
    "        elif (event['type'] in ['ws-puzzle_complete']):\n",
    "            # print (event['task_id'])\n",
    "            # This was a correct solution! We need to mark all of these frames as correct\n",
    "            for frame in frames:\n",
    "                all_playtest_data.at[frame, 'completed'] = True\n",
    "            \n",
    "        else:\n",
    "            # Set the active puzzle to be this one we're looking at\n",
    "            all_playtest_data.at[enum, 'task_id'] = activePuzzle\n",
    "            frames.append(enum)\n"
   ]
  },
  {
   "cell_type": "code",
   "execution_count": 7,
   "metadata": {},
   "outputs": [],
   "source": [
    "all_playtest_data['time'] = pd.to_datetime(all_playtest_data['time'])\n"
   ]
  },
  {
   "cell_type": "code",
   "execution_count": 8,
   "metadata": {},
   "outputs": [],
   "source": [
    "all_attempts = all_playtest_data.task_id.value_counts()\n"
   ]
  },
  {
   "cell_type": "code",
   "execution_count": 9,
   "metadata": {},
   "outputs": [],
   "source": [
    "complete_puzzles = all_playtest_data.loc[all_playtest_data['type'] == 'ws-puzzle_complete']\n",
    "successful_attempts = complete_puzzles.task_id.value_counts()"
   ]
  },
  {
   "cell_type": "code",
   "execution_count": 10,
   "metadata": {},
   "outputs": [],
   "source": [
    "created_shapes = all_playtest_data.query('type == \"ws-create_shape\"')\n",
    "success_created_shapes =  created_shapes.query('completed == True')\n",
    "\n",
    "shapes_used = collections.defaultdict(list)\n",
    "for shapes, value in created_shapes.iterrows():\n",
    "    shapes_used[value.get('task_id')].append(int(value.get('shapeType')))\n",
    "\n",
    "shapes_used_success = collections.defaultdict(list)\n",
    "for shapes, value in success_created_shapes.iterrows():\n",
    "    shapes_used_success[value.get('task_id')].append(int(value.get('shapeType')))"
   ]
  },
  {
   "cell_type": "code",
   "execution_count": 11,
   "metadata": {
    "scrolled": true
   },
   "outputs": [
    {
     "name": "stdout",
     "output_type": "stream",
     "text": [
      "Design a Puzzle\n",
      "Puzzle Design a Puzzle           Attempts  1257 / Success  0    :  0.0 % Solution Shapes: []\n",
      "Shapes Used Total: Counter({1: 33, 4: 23, 5: 18, 2: 11, 3: 6, 6: 5})\n",
      "Shapes Used Success: Counter({1: 3, 4: 3, 2: 3, 5: 1, 3: 1})\n",
      "Pyramids are Strange\n",
      "Puzzle Pyramids are Strange      Attempts  1050 / Success  6    :  0.6 % Solution Shapes: [2, 2, 2, 2]\n",
      "Shapes Used Total: Counter({2: 48})\n",
      "Shapes Used Success: Counter({2: 31})\n",
      "Scaling Round Objects\n",
      "Puzzle Scaling Round Objects     Attempts  767  / Success  7    :  0.9 % Solution Shapes: [4, 2]\n",
      "Shapes Used Total: Counter({4: 13, 5: 13, 6: 1, 1: 1})\n",
      "Shapes Used Success: Counter({4: 10, 5: 9, 6: 1})\n",
      "Cubes Obscure Spheres\n",
      "Puzzle Cubes Obscure Spheres     Attempts  724  / Success  6    :  0.8 % Solution Shapes: [6, 4, 4, 1]\n",
      "Shapes Used Total: Counter({1: 33, 4: 27, 6: 11})\n",
      "Shapes Used Success: Counter({1: 14, 4: 13, 6: 7})\n",
      "Not Bird\n",
      "Puzzle Not Bird                  Attempts  647  / Success  3    :  0.5 % Solution Shapes: [6, 4, 2]\n",
      "Shapes Used Total: Counter({1: 10, 4: 9, 6: 6, 5: 6, 2: 5, 3: 2})\n",
      "Shapes Used Success: Counter({4: 5, 5: 4, 2: 3, 6: 2})\n",
      "Bird Fez\n",
      "Puzzle Bird Fez                  Attempts  635  / Success  8    :  1.3 % Solution Shapes: [6, 5, 4]\n",
      "Shapes Used Total: Counter({1: 9, 6: 8, 5: 5, 4: 3, 2: 3})\n",
      "Shapes Used Success: Counter({1: 9, 6: 7, 5: 4, 2: 3, 4: 2})\n",
      "Rotate a Pyramid\n",
      "Puzzle Rotate a Pyramid          Attempts  629  / Success  10   :  1.6 % Solution Shapes: [2]\n",
      "Shapes Used Total: Counter({2: 20})\n",
      "Shapes Used Success: Counter({2: 12})\n",
      "45-Degree Rotations\n",
      "Puzzle 45-Degree Rotations       Attempts  603  / Success  9    :  1.5 % Solution Shapes: [3, 3, 3, 3, 6]\n",
      "Shapes Used Total: Counter({3: 45, 6: 9})\n",
      "Shapes Used Success: Counter({3: 45, 6: 9})\n",
      "Angled Silhouette\n",
      "Puzzle Angled Silhouette         Attempts  527  / Success  5    :  0.9 % Solution Shapes: [1, 1, 2, 2]\n",
      "Shapes Used Total: Counter({1: 15, 2: 13, 3: 6})\n",
      "Shapes Used Success: Counter({1: 15, 2: 13, 3: 6})\n",
      "Square Cross-Sections\n",
      "Puzzle Square Cross-Sections     Attempts  520  / Success  8    :  1.5 % Solution Shapes: [3, 4, 2]\n",
      "Shapes Used Total: Counter({3: 11, 2: 10, 4: 8, 6: 6, 1: 2, 5: 1})\n",
      "Shapes Used Success: Counter({3: 9, 2: 8, 4: 8, 6: 4, 1: 1})\n",
      "Pi Henge\n",
      "Puzzle Pi Henge                  Attempts  421  / Success  7    :  1.7 % Solution Shapes: [1, 1, 1, 1, 1]\n",
      "Shapes Used Total: Counter({1: 32, 4: 3})\n",
      "Shapes Used Success: Counter({1: 32, 4: 3})\n",
      "Stack 2 Ramps\n",
      "Puzzle Stack 2 Ramps             Attempts  401  / Success  8    :  2.0 % Solution Shapes: [3, 3]\n",
      "Shapes Used Total: Counter({3: 21})\n",
      "Shapes Used Success: Counter({3: 19})\n",
      "Shape Limits\n",
      "Puzzle Shape Limits              Attempts  389  / Success  6    :  1.5 % Solution Shapes: [1]\n",
      "Shapes Used Total: Counter({1: 12})\n",
      "Shapes Used Success: Counter({1: 9})\n",
      "Match Silhouettes\n",
      "Puzzle Match Silhouettes         Attempts  341  / Success  10   :  2.9 % Solution Shapes: [1, 2]\n",
      "Shapes Used Total: Counter({1: 19, 2: 15})\n",
      "Shapes Used Success: Counter({1: 12, 2: 12})\n",
      "Max 2 Cubes\n",
      "Puzzle Max 2 Cubes               Attempts  270  / Success  8    :  3.0 % Solution Shapes: [1, 1]\n",
      "Shapes Used Total: Counter({1: 20})\n",
      "Shapes Used Success: Counter({1: 15})\n",
      "Stretch a Ramp\n",
      "Puzzle Stretch a Ramp            Attempts  229  / Success  9    :  3.9 % Solution Shapes: [3]\n",
      "Shapes Used Total: Counter({3: 12})\n",
      "Shapes Used Success: Counter({3: 12})\n",
      "Removing Objects\n",
      "Puzzle Removing Objects          Attempts  172  / Success  9    :  5.2 % Solution Shapes: [2, 5]\n",
      "Shapes Used Total: Counter({2: 12, 5: 9, 1: 5})\n",
      "Shapes Used Success: Counter({2: 10, 5: 9, 1: 4})\n",
      "Separated Cubes\n",
      "Puzzle Separated Cubes           Attempts  144  / Success  10   :  6.9 % Solution Shapes: [1, 1]\n",
      "Shapes Used Total: Counter({1: 22})\n",
      "Shapes Used Success: Counter({1: 20})\n",
      "One Cube\n",
      "Puzzle One Cube                  Attempts  99   / Success  10   :  10.1% Solution Shapes: [1]\n",
      "Shapes Used Total: Counter({1: 10})\n",
      "Shapes Used Success: Counter({1: 9})\n",
      "Sandbox\n",
      "Puzzle Sandbox                   Attempts  10   / Success  0    :  0.0 % Solution Shapes: []\n",
      "Shapes Used Total: Counter()\n",
      "Shapes Used Success: Counter()\n",
      "Design a Puzzle 2\n",
      "Puzzle Design a Puzzle 2         Attempts  3    / Success  3    :  100.0% Solution Shapes: []\n",
      "Shapes Used Total: Counter()\n",
      "Shapes Used Success: Counter()\n",
      "Design a Puzzle 1\n",
      "Puzzle Design a Puzzle 1         Attempts  1    / Success  1    :  100.0% Solution Shapes: []\n",
      "Shapes Used Total: Counter()\n",
      "Shapes Used Success: Counter()\n"
     ]
    }
   ],
   "source": [
    "for attempt, value in all_attempts.items():\n",
    "    print(attempt)\n",
    "    success_value = successful_attempts.get(attempt, 0)\n",
    "    shapes = get_shapes(puzzles.get(attempt))\n",
    "    print (f\"Puzzle {attempt: <25} Attempts {value: < 5} / Success {success_value: < 5} : {round(((success_value/value) * 100), 1): < 5}% Solution Shapes: {shapes}\")\n",
    "    times_used = collections.Counter(shapes_used[attempt])\n",
    "    print (f\"Shapes Used Total: {times_used}\")\n",
    "    times_used = collections.Counter(shapes_used_success[attempt])\n",
    "    print (f\"Shapes Used Success: {times_used}\")\n"
   ]
  },
  {
   "cell_type": "code",
   "execution_count": 12,
   "metadata": {},
   "outputs": [
    {
     "data": {
      "text/plain": [
       "ws-mode_change                1520\n",
       "ws-rotate_shape               1202\n",
       "ws-rotate_view                1088\n",
       "ws-scale_shape                1004\n",
       "ws-move_shape                 958 \n",
       "ws-select_shape               927 \n",
       "ws-deselect_shape             832 \n",
       "ws-create_shape               649 \n",
       "ws-puzzle_started             267 \n",
       "ws-start_level                245 \n",
       "ws-check_solution             243 \n",
       "ws-click_nothing              237 \n",
       "ws-exit_to_menu               200 \n",
       "ws-snapshot                   194 \n",
       "ws-delete_shape               158 \n",
       "ws-puzzle_complete            143 \n",
       "ws-undo_action                56  \n",
       "ws-toggle_snapshot_display    50  \n",
       "ws-start_game                 22  \n",
       "ws-login_user                 22  \n",
       "ws-restart_puzzle             22  \n",
       "ws-select_shape_add           20  \n",
       "ws-paint                      14  \n",
       "ws-toggle_paint_display       12  \n",
       "ws-palette_change             12  \n",
       "ws-redo_action                3   \n",
       "start_game                    1   \n",
       "Name: type, dtype: int64"
      ]
     },
     "execution_count": 12,
     "metadata": {},
     "output_type": "execute_result"
    }
   ],
   "source": [
    "\n",
    "all_playtest_data.type.value_counts()"
   ]
  }
 ],
 "metadata": {
  "kernelspec": {
   "display_name": "Python 3",
   "language": "python",
   "name": "python3"
  },
  "language_info": {
   "codemirror_mode": {
    "name": "ipython",
    "version": 3
   },
   "file_extension": ".py",
   "mimetype": "text/x-python",
   "name": "python",
   "nbconvert_exporter": "python",
   "pygments_lexer": "ipython3",
   "version": "3.6.6"
  }
 },
 "nbformat": 4,
 "nbformat_minor": 2
}
